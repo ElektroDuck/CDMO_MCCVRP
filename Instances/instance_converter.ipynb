{
 "cells": [
  {
   "cell_type": "code",
   "execution_count": 3,
   "metadata": {},
   "outputs": [],
   "source": [
    "def create_dnz_file(dat_filenane):    \n",
    "    # Open the file in read mode ('r')\n",
    "    with open(dat_filenane, 'r') as file:\n",
    "        # Read the first line as m\n",
    "        num_vehicles = int(file.readline().strip())\n",
    "        \n",
    "        # Read the second line as n\n",
    "        num_clients = int(file.readline().strip())\n",
    "        \n",
    "        # Read the third line as an array L\n",
    "        capacity = list(map(int, file.readline().strip().split()))\n",
    "        \n",
    "        # Read the fourth line as S\n",
    "        size = list(map(int, file.readline().strip().split()))\n",
    "        \n",
    "        # Read the rest of the file and save it into a bidimensional array\n",
    "        distances = [list(map(int, line.strip().split())) for line in file]\n",
    "\n",
    "    # Assuming that the dzn file is a text file where we can write the variables as text\n",
    "    # Open the dzn file in append mode ('a')\n",
    "\n",
    "    dnz_filename = dat_filenane.replace('.dat', '.dzn')\n",
    "    with open(f'./CP_instances/{dnz_filename}', 'w') as file:\n",
    "        # Write the variables to the dzn file\n",
    "        file.write(f\"num_vehicles = {num_vehicles}; \\n\")\n",
    "        file.write(f\"num_clients = {num_clients}; \\n\")\n",
    "        file.write(f\"capacity = {capacity}; \\n\")\n",
    "        file.write(f\"size = {size}; \\n\")\n",
    "\n",
    "        file.write(f\"distances = [|\" + str(distances[0]).replace('[','').replace(']','') )\n",
    "        for i in range(1, len(distances)):\n",
    "            file.write(f\"\\n\\t|\" + str(distances[i]).replace('[','').replace(']','') )\n",
    "        file.write(f\"|];\\n\")"
   ]
  },
  {
   "cell_type": "code",
   "execution_count": 4,
   "metadata": {},
   "outputs": [
    {
     "name": "stdout",
     "output_type": "stream",
     "text": [
      "inst01.dat\n",
      "\n",
      "inst02.dat\n",
      "\n",
      "inst03.dat\n",
      "\n",
      "inst04.dat\n",
      "\n",
      "inst05.dat\n",
      "\n",
      "inst06.dat\n",
      "\n",
      "inst07.dat\n",
      "\n",
      "inst08.dat\n",
      "\n",
      "inst09.dat\n",
      "\n",
      "inst10.dat\n",
      "\n",
      "inst11.dat\n",
      "\n",
      "inst12.dat\n",
      "\n",
      "inst13.dat\n",
      "\n",
      "inst14.dat\n",
      "\n",
      "inst15.dat\n",
      "\n",
      "inst16.dat\n",
      "\n",
      "inst17.dat\n",
      "\n",
      "inst18.dat\n",
      "\n",
      "inst19.dat\n",
      "\n",
      "inst20.dat\n",
      "\n",
      "inst21.dat\n",
      "\n"
     ]
    }
   ],
   "source": [
    "#list all the file with extension .dat in the directory\n",
    "import os\n",
    "path = './'\n",
    "for file in os.listdir(path):\n",
    "    if file.endswith(\".dat\"):\n",
    "        print(file)\n",
    "        create_dnz_file(file)\n",
    "        print(\"\")"
   ]
  },
  {
   "cell_type": "code",
   "execution_count": null,
   "metadata": {},
   "outputs": [],
   "source": []
  }
 ],
 "metadata": {
  "kernelspec": {
   "display_name": "Python 3",
   "language": "python",
   "name": "python3"
  },
  "language_info": {
   "codemirror_mode": {
    "name": "ipython",
    "version": 3
   },
   "file_extension": ".py",
   "mimetype": "text/x-python",
   "name": "python",
   "nbconvert_exporter": "python",
   "pygments_lexer": "ipython3",
   "version": "3.10.11"
  }
 },
 "nbformat": 4,
 "nbformat_minor": 2
}
